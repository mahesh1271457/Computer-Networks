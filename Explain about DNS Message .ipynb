{
 "cells": [
  {
   "cell_type": "markdown",
   "metadata": {},
   "source": [
    "# CN ASSIGNMENT-2 "
   ]
  },
  {
   "cell_type": "markdown",
   "metadata": {},
   "source": [
    "#### 1) Explain about DNS Message ?"
   ]
  },
  {
   "cell_type": "markdown",
   "metadata": {},
   "source": [
    "- DNS has two types of messages\n",
    "\n",
    "    1) Query    : Consists of Header and question records.\n",
    "    \n",
    "    2) Response : Consists of Header,question records,answerrecords,authoritative records and additional record.\n",
    "- Both types have the same format.\n",
    "- ![](https://th.bing.com/th/id/OIP.H8faNzORRztY8ct0uzAoyQHaEK?w=303&h=180&c=7&o=5&dpr=1.5&pid=1.7)"
   ]
  },
  {
   "cell_type": "markdown",
   "metadata": {},
   "source": [
    "#### HEADER FORMAT\n",
    "\n",
    "![](https://th.bing.com/th/id/R88738af798920064724c473b18bf59fb?rik=JG5tCfUu5YUNIQ&riu=http%3a%2f%2fwww.tcpipguide.com%2ffree%2fdiagrams%2fdnsheaderformat.png&ehk=JOc1Ppq9DQ1YrYOXkZHGdbl24RgMNixFJm%2f6IYQBGXY%3d&risl=&pid=ImgRaw)"
   ]
  },
  {
   "cell_type": "markdown",
   "metadata": {},
   "source": [
    "- Header having 6 fields of 16 bit.\n",
    "\n",
    "\n",
    "- 1) identification :- This is a 16 bit field used by client to match response with query.\n",
    "This client used a different identification number each time it sends a query.\n",
    "The server duplicates this number in corresponding response.\n",
    "\n",
    "\n",
    "- 2) Flags:- Flag is a 16 bit field subfields which indicate the purpose of DNS Messages.\n",
    "Flag is having 8 subfields:-\n",
    "\n",
    "    i.e..,  QR,OpCode,AA,TC,RD,RA,Three 0s,rCode\n"
   ]
  },
  {
   "cell_type": "markdown",
   "metadata": {},
   "source": [
    "#### 1) QR(Query/Response):-"
   ]
  },
  {
   "cell_type": "markdown",
   "metadata": {},
   "source": [
    "This is a 1 bit subfield that define the type of message. \n",
    "- if it is 0 the message is query\n",
    "- if it is 1 the message is Response   "
   ]
  },
  {
   "cell_type": "markdown",
   "metadata": {},
   "source": [
    "#### 2) Opcode(Operational Code)"
   ]
  },
  {
   "cell_type": "markdown",
   "metadata": {},
   "source": [
    "This is a 4 bit subfield that define the type of query or response.\n",
    "    \n",
    "    0 --> if standared\n",
    "    \n",
    "    1 --> if inverse\n",
    "    \n",
    "    2 --> if a server status request"
   ]
  },
  {
   "cell_type": "markdown",
   "metadata": {},
   "source": [
    "#### 3) AA(Authoritative Answer):-"
   ]
  },
  {
   "cell_type": "markdown",
   "metadata": {},
   "source": [
    "This is a 1 bit subfield.\n",
    "- if the value set 1 then it is Authoritative server.\n",
    "- It used only in a Response message."
   ]
  },
  {
   "cell_type": "markdown",
   "metadata": {},
   "source": [
    "#### 4) TC(TRUNCATED)"
   ]
  },
  {
   "cell_type": "markdown",
   "metadata": {},
   "source": [
    "This is a 1 bit subfield.\n",
    "- if the value set 1 then the response was more than 512 bytes and truncated to 512.\n",
    "- it is used when DNS uses the server of UDP."
   ]
  },
  {
   "cell_type": "markdown",
   "metadata": {},
   "source": [
    "#### 5) RD(recursion Desired)"
   ]
  },
  {
   "cell_type": "markdown",
   "metadata": {},
   "source": [
    "This is a 1 bit subfield.\n",
    "- if the value set 1 then the client desires a recursive answer\n",
    "- if it set in the query message and repeated in the response message"
   ]
  },
  {
   "cell_type": "markdown",
   "metadata": {},
   "source": [
    "#### 6) RA(recursion available)"
   ]
  },
  {
   "cell_type": "markdown",
   "metadata": {},
   "source": [
    "This is a 1 bit subfield.\n",
    "\n",
    "- if the value set 1 then the recursive response is available.\n",
    "- it set only in the response message."
   ]
  },
  {
   "cell_type": "markdown",
   "metadata": {},
   "source": [
    "#### 7) Zero (Reserved)"
   ]
  },
  {
   "cell_type": "markdown",
   "metadata": {},
   "source": [
    "This is a 3 bit subfield set to 000."
   ]
  },
  {
   "cell_type": "markdown",
   "metadata": {},
   "source": [
    "#### 8) RC(Response Code)"
   ]
  },
  {
   "cell_type": "markdown",
   "metadata": {},
   "source": [
    "This is a 4 bit subfield.\n",
    "- This shows the status of the error in the response"
   ]
  },
  {
   "cell_type": "markdown",
   "metadata": {},
   "source": [
    "![](data:image/jpeg;base64,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)"
   ]
  },
  {
   "cell_type": "markdown",
   "metadata": {},
   "source": [
    "####  Number of question records"
   ]
  },
  {
   "cell_type": "markdown",
   "metadata": {},
   "source": [
    "This is a 16 bit field.\n",
    "- Contains the number of queries in the question section of the message.\n"
   ]
  },
  {
   "cell_type": "markdown",
   "metadata": {},
   "source": [
    "#### Number of answer records"
   ]
  },
  {
   "cell_type": "markdown",
   "metadata": {},
   "source": [
    "This is a 16 bit field.\n",
    "- Contains the number of answers in the answers section of the response\n",
    "message.\n",
    "- its value is zero in query message."
   ]
  },
  {
   "cell_type": "markdown",
   "metadata": {},
   "source": [
    "#### Number of authoritative  records"
   ]
  },
  {
   "cell_type": "markdown",
   "metadata": {},
   "source": [
    "This is a 16 bit field.\n",
    "- Contains the number of authoritative recorsds in the authoritative section of the response message.\n",
    "- its value is zero in query message."
   ]
  },
  {
   "cell_type": "markdown",
   "metadata": {},
   "source": [
    "#### Number of additional records"
   ]
  },
  {
   "cell_type": "markdown",
   "metadata": {},
   "source": [
    "This is a 16 bit field.\n",
    "- Contains the number of additional records in the additional section of a response message.\n",
    "- its value is zero in query message."
   ]
  },
  {
   "cell_type": "markdown",
   "metadata": {},
   "source": [
    "#### Question Section"
   ]
  },
  {
   "cell_type": "markdown",
   "metadata": {},
   "source": [
    "- This is a section Containing 1 or more resource records.\n",
    "- it is present on both query and response message."
   ]
  },
  {
   "cell_type": "markdown",
   "metadata": {},
   "source": [
    "#### Answer section"
   ]
  },
  {
   "cell_type": "markdown",
   "metadata": {},
   "source": [
    "- This is a section Containing 1 or more resource records.\n",
    "- it is present only at response message.\n",
    "- it includes answer from the server to the client"
   ]
  },
  {
   "cell_type": "markdown",
   "metadata": {},
   "source": [
    "#### Authoritative Section"
   ]
  },
  {
   "cell_type": "markdown",
   "metadata": {},
   "source": [
    "- This is a section Containing 1 or more resource records.\n",
    "- it is present only at response message.\n",
    "- This section gives information about 1 or more authoritative servers for the query."
   ]
  },
  {
   "cell_type": "markdown",
   "metadata": {},
   "source": [
    "#### Additional Information Section "
   ]
  },
  {
   "cell_type": "markdown",
   "metadata": {},
   "source": [
    "- This is a section Containing 1 or more resource records\n",
    "- it is present only at response messages\n",
    "- This section gives additional information that may help the server"
   ]
  }
 ],
 "metadata": {
  "kernelspec": {
   "display_name": "Python 3",
   "language": "python",
   "name": "python3"
  },
  "language_info": {
   "codemirror_mode": {
    "name": "ipython",
    "version": 3
   },
   "file_extension": ".py",
   "mimetype": "text/x-python",
   "name": "python",
   "nbconvert_exporter": "python",
   "pygments_lexer": "ipython3",
   "version": "3.8.5"
  }
 },
 "nbformat": 4,
 "nbformat_minor": 4
}
